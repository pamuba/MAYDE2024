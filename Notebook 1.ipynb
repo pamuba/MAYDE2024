{
  "cells": [
    {
      "cell_type": "code",
      "source": [
        "gold_folder_path = 'abfss://nyc-taxi-data@nycanalyticsmarlabsdl.dfs.core.windows.net/gold'\r\n",
        "silver_folder_path = 'abfss://nyc-taxi-data@nycanalyticsmarlabsdl.dfs.core.windows.net/silver'\r\n",
        "gold_folder_path = 'abfss://nyc-taxi-data@nycanalyticsmarlabsdl.dfs.core.windows.net/gold'"
      ],
      "outputs": [
        {
          "output_type": "display_data",
          "data": {
            "application/vnd.livy.statement-meta+json": {
              "spark_pool": "nycsparkpool",
              "statement_id": 22,
              "statement_ids": [
                22
              ],
              "livy_statement_state": "available",
              "spark_jobs": null,
              "session_id": "0",
              "state": "finished",
              "normalized_state": "finished",
              "queued_time": "2024-07-08T19:26:06.7117322Z",
              "session_start_time": null,
              "execution_start_time": "2024-07-08T19:26:06.9026103Z",
              "execution_finish_time": "2024-07-08T19:26:07.091295Z",
              "parent_msg_id": "ef5fdef4-9eca-43e7-8979-8f311963158b"
            },
            "text/plain": "StatementMeta(nycsparkpool, 0, 22, Finished, Available, Finished)"
          },
          "metadata": {}
        }
      ],
      "execution_count": 21,
      "metadata": {
        "jupyter": {
          "source_hidden": false,
          "outputs_hidden": false
        },
        "nteract": {
          "transient": {
            "deleting": false
          }
        },
        "collapsed": false
      }
    },
    {
      "cell_type": "code",
      "source": [
        "spark.conf.set(\"spark.sql.sources.partitionColumnTypeInfrence.enabled\", \"false\")"
      ],
      "outputs": [
        {
          "output_type": "display_data",
          "data": {
            "application/vnd.livy.statement-meta+json": {
              "spark_pool": "nycsparkpool",
              "statement_id": 23,
              "statement_ids": [
                23
              ],
              "livy_statement_state": "available",
              "spark_jobs": null,
              "session_id": "0",
              "state": "finished",
              "normalized_state": "finished",
              "queued_time": "2024-07-08T19:26:06.901458Z",
              "session_start_time": null,
              "execution_start_time": "2024-07-08T19:26:07.2342276Z",
              "execution_finish_time": "2024-07-08T19:26:07.4074962Z",
              "parent_msg_id": "4514d9a2-5e41-49b2-b7ca-934b76780f20"
            },
            "text/plain": "StatementMeta(nycsparkpool, 0, 23, Finished, Available, Finished)"
          },
          "metadata": {}
        }
      ],
      "execution_count": 22,
      "metadata": {
        "jupyter": {
          "source_hidden": false,
          "outputs_hidden": false
        },
        "nteract": {
          "transient": {
            "deleting": false
          }
        }
      }
    },
    {
      "cell_type": "code",
      "source": [
        "%%sql\r\n",
        "\r\n",
        "CREATE DATABASE IF NOT EXISTS nyc_taxi_ldw_spark\r\n",
        "LOCATION 'abfss://nyc-taxi-data@nycanalyticsmarlabsdl.dfs.core.windows.net/gold'"
      ],
      "outputs": [
        {
          "output_type": "display_data",
          "data": {
            "application/vnd.livy.statement-meta+json": {
              "spark_pool": "nycsparkpool",
              "statement_id": 24,
              "statement_ids": [
                24
              ],
              "livy_statement_state": "available",
              "spark_jobs": null,
              "session_id": "0",
              "state": "finished",
              "normalized_state": "finished",
              "queued_time": "2024-07-08T19:26:07.032847Z",
              "session_start_time": null,
              "execution_start_time": "2024-07-08T19:26:07.548933Z",
              "execution_finish_time": "2024-07-08T19:26:08.689599Z",
              "parent_msg_id": "d79f425b-d714-41ab-a327-3a567d00c042"
            },
            "text/plain": "StatementMeta(nycsparkpool, 0, 24, Finished, Available, Finished)"
          },
          "metadata": {}
        },
        {
          "output_type": "execute_result",
          "execution_count": 23,
          "data": {
            "application/vnd.synapse.sparksql-result+json": {
              "schema": {
                "type": "struct",
                "fields": []
              },
              "data": []
            },
            "text/plain": "<Spark SQL result set with 0 rows and 0 fields>"
          },
          "metadata": {}
        }
      ],
      "execution_count": 23,
      "metadata": {
        "jupyter": {
          "source_hidden": false,
          "outputs_hidden": false
        },
        "nteract": {
          "transient": {
            "deleting": false
          }
        },
        "microsoft": {
          "language": "sparksql"
        },
        "collapsed": false
      }
    },
    {
      "cell_type": "code",
      "source": [
        "trip_data_green_df = spark.read.parquet(f\"{silver_folder_path}/trip_data_green\")\r\n",
        "trip_data_green_df"
      ],
      "outputs": [
        {
          "output_type": "display_data",
          "data": {
            "application/vnd.livy.statement-meta+json": {
              "spark_pool": "nycsparkpool",
              "statement_id": 25,
              "statement_ids": [
                25
              ],
              "livy_statement_state": "available",
              "spark_jobs": null,
              "session_id": "0",
              "state": "finished",
              "normalized_state": "finished",
              "queued_time": "2024-07-08T19:26:07.4144969Z",
              "session_start_time": null,
              "execution_start_time": "2024-07-08T19:26:08.8178032Z",
              "execution_finish_time": "2024-07-08T19:26:09.3955922Z",
              "parent_msg_id": "59236b40-f9ca-426b-a71c-87beb370f6a3"
            },
            "text/plain": "StatementMeta(nycsparkpool, 0, 25, Finished, Available, Finished)"
          },
          "metadata": {}
        },
        {
          "output_type": "execute_result",
          "execution_count": 45,
          "data": {
            "text/plain": "DataFrame[VendorID: int, lpep_pickup_datetime: timestamp, lpep_dropoff_datetime: timestamp, store_and_fwd_flag: string, RatecodeID: int, PULocationID: int, DOLocationID: int, passenger_count: int, trip_distance: double, fare_amount: double, extra: double, mta_tax: double, tip_amount: double, tolls_amount: double, ehail_fee: int, improvement_surcharge: double, total_amount: double, payment_type: int, trip_type: int, congestion_surcharge: double, year: int, month: int]"
          },
          "metadata": {}
        }
      ],
      "execution_count": 24,
      "metadata": {
        "jupyter": {
          "source_hidden": false,
          "outputs_hidden": false
        },
        "nteract": {
          "transient": {
            "deleting": false
          }
        }
      }
    },
    {
      "cell_type": "code",
      "source": [
        "# total trip count\r\n",
        "# total fare amount\r\n",
        "\r\n",
        "from pyspark.sql.functions import *\r\n",
        "\r\n",
        "\r\n",
        "\r\n",
        "trip_data_green_agg_df = trip_data_green_df \\\r\n",
        "                         .groupBy(\"year\", \"month\", \"PULocationID\", \"DOLocationID\") \\\r\n",
        "                         .agg(count(lit(1)).alias(\"total_trip_count\"),\r\n",
        "                         round(sum(\"fare_amount\"), 2).alias(\"total_fare_amount\"))"
      ],
      "outputs": [
        {
          "output_type": "display_data",
          "data": {
            "application/vnd.livy.statement-meta+json": {
              "spark_pool": "nycsparkpool",
              "statement_id": 26,
              "statement_ids": [
                26
              ],
              "livy_statement_state": "available",
              "spark_jobs": null,
              "session_id": "0",
              "state": "finished",
              "normalized_state": "finished",
              "queued_time": "2024-07-08T19:26:08.1155606Z",
              "session_start_time": null,
              "execution_start_time": "2024-07-08T19:26:09.5415304Z",
              "execution_finish_time": "2024-07-08T19:26:09.721368Z",
              "parent_msg_id": "34d28d2d-07ff-48d2-8308-a4f480f3750f"
            },
            "text/plain": "StatementMeta(nycsparkpool, 0, 26, Finished, Available, Finished)"
          },
          "metadata": {}
        }
      ],
      "execution_count": 25,
      "metadata": {
        "jupyter": {
          "source_hidden": false,
          "outputs_hidden": false
        },
        "nteract": {
          "transient": {
            "deleting": false
          }
        }
      }
    },
    {
      "cell_type": "code",
      "source": [
        "trip_data_green_agg_df.write.mode(\"overwrite\").partitionBy(\"year\", \"month\") \\\r\n",
        ".format(\"parquet\").saveAsTable(\"nyc_taxi_ldw_spark.trip_data_green_agg\")"
      ],
      "outputs": [
        {
          "output_type": "display_data",
          "data": {
            "application/vnd.livy.statement-meta+json": {
              "spark_pool": "nycsparkpool",
              "statement_id": 27,
              "statement_ids": [
                27
              ],
              "livy_statement_state": "available",
              "spark_jobs": null,
              "session_id": "0",
              "state": "finished",
              "normalized_state": "finished",
              "queued_time": "2024-07-08T19:26:08.5716514Z",
              "session_start_time": null,
              "execution_start_time": "2024-07-08T19:26:09.8569421Z",
              "execution_finish_time": "2024-07-08T19:26:20.6461113Z",
              "parent_msg_id": "1975d893-fc36-4911-8b3b-a2698a510e98"
            },
            "text/plain": "StatementMeta(nycsparkpool, 0, 27, Finished, Available, Finished)"
          },
          "metadata": {}
        }
      ],
      "execution_count": 26,
      "metadata": {
        "jupyter": {
          "source_hidden": false,
          "outputs_hidden": false
        },
        "nteract": {
          "transient": {
            "deleting": false
          }
        }
      }
    }
  ],
  "metadata": {
    "kernelspec": {
      "name": "synapse_pyspark",
      "language": "Python",
      "display_name": "Synapse PySpark"
    },
    "language_info": {
      "name": "python"
    },
    "kernel_info": {
      "name": "synapse_pyspark"
    },
    "save_output": true,
    "synapse_widget": {
      "version": "0.1",
      "state": {}
    }
  },
  "nbformat": 4,
  "nbformat_minor": 2
}